{
 "cells": [
  {
   "cell_type": "code",
   "execution_count": 1,
   "id": "4e61268d",
   "metadata": {
    "_cell_guid": "b1076dfc-b9ad-4769-8c92-a6c4dae69d19",
    "_uuid": "8f2839f25d086af736a60e9eeb907d3b93b6e0e5",
    "execution": {
     "iopub.execute_input": "2025-06-16T16:46:40.932730Z",
     "iopub.status.busy": "2025-06-16T16:46:40.932431Z",
     "iopub.status.idle": "2025-06-16T16:46:42.877976Z",
     "shell.execute_reply": "2025-06-16T16:46:42.876682Z"
    },
    "papermill": {
     "duration": 1.955001,
     "end_time": "2025-06-16T16:46:42.879803",
     "exception": false,
     "start_time": "2025-06-16T16:46:40.924802",
     "status": "completed"
    },
    "tags": []
   },
   "outputs": [
    {
     "name": "stdout",
     "output_type": "stream",
     "text": [
      "/kaggle/input/student-grade-prediction/student-mat.csv\n"
     ]
    }
   ],
   "source": [
    "# This Python 3 environment comes with many helpful analytics libraries installed\n",
    "# It is defined by the kaggle/python Docker image: https://github.com/kaggle/docker-python\n",
    "# For example, here's several helpful packages to load\n",
    "\n",
    "import numpy as np # linear algebra\n",
    "import pandas as pd # data processing, CSV file I/O (e.g. pd.read_csv)\n",
    "\n",
    "# Input data files are available in the read-only \"../input/\" directory\n",
    "# For example, running this (by clicking run or pressing Shift+Enter) will list all files under the input directory\n",
    "\n",
    "import os\n",
    "for dirname, _, filenames in os.walk('/kaggle/input'):\n",
    "    for filename in filenames:\n",
    "        print(os.path.join(dirname, filename))\n",
    "\n",
    "# You can write up to 20GB to the current directory (/kaggle/working/) that gets preserved as output when you create a version using \"Save & Run All\" \n",
    "# You can also write temporary files to /kaggle/temp/, but they won't be saved outside of the current session"
   ]
  },
  {
   "cell_type": "markdown",
   "id": "e52823bc",
   "metadata": {
    "papermill": {
     "duration": 0.004793,
     "end_time": "2025-06-16T16:46:42.890156",
     "exception": false,
     "start_time": "2025-06-16T16:46:42.885363",
     "status": "completed"
    },
    "tags": []
   },
   "source": [
    "# Preparação"
   ]
  },
  {
   "cell_type": "code",
   "execution_count": 2,
   "id": "83d9cb2a",
   "metadata": {
    "execution": {
     "iopub.execute_input": "2025-06-16T16:46:42.901154Z",
     "iopub.status.busy": "2025-06-16T16:46:42.900745Z",
     "iopub.status.idle": "2025-06-16T16:46:42.960890Z",
     "shell.execute_reply": "2025-06-16T16:46:42.959804Z"
    },
    "papermill": {
     "duration": 0.067722,
     "end_time": "2025-06-16T16:46:42.962670",
     "exception": false,
     "start_time": "2025-06-16T16:46:42.894948",
     "status": "completed"
    },
    "tags": []
   },
   "outputs": [
    {
     "data": {
      "text/html": [
       "<div>\n",
       "<style scoped>\n",
       "    .dataframe tbody tr th:only-of-type {\n",
       "        vertical-align: middle;\n",
       "    }\n",
       "\n",
       "    .dataframe tbody tr th {\n",
       "        vertical-align: top;\n",
       "    }\n",
       "\n",
       "    .dataframe thead th {\n",
       "        text-align: right;\n",
       "    }\n",
       "</style>\n",
       "<table border=\"1\" class=\"dataframe\">\n",
       "  <thead>\n",
       "    <tr style=\"text-align: right;\">\n",
       "      <th></th>\n",
       "      <th>school</th>\n",
       "      <th>sex</th>\n",
       "      <th>age</th>\n",
       "      <th>address</th>\n",
       "      <th>famsize</th>\n",
       "      <th>Pstatus</th>\n",
       "      <th>Medu</th>\n",
       "      <th>Fedu</th>\n",
       "      <th>Mjob</th>\n",
       "      <th>Fjob</th>\n",
       "      <th>...</th>\n",
       "      <th>famrel</th>\n",
       "      <th>freetime</th>\n",
       "      <th>goout</th>\n",
       "      <th>Dalc</th>\n",
       "      <th>Walc</th>\n",
       "      <th>health</th>\n",
       "      <th>absences</th>\n",
       "      <th>G1</th>\n",
       "      <th>G2</th>\n",
       "      <th>G3</th>\n",
       "    </tr>\n",
       "  </thead>\n",
       "  <tbody>\n",
       "    <tr>\n",
       "      <th>0</th>\n",
       "      <td>GP</td>\n",
       "      <td>F</td>\n",
       "      <td>18</td>\n",
       "      <td>U</td>\n",
       "      <td>GT3</td>\n",
       "      <td>A</td>\n",
       "      <td>4</td>\n",
       "      <td>4</td>\n",
       "      <td>at_home</td>\n",
       "      <td>teacher</td>\n",
       "      <td>...</td>\n",
       "      <td>4</td>\n",
       "      <td>3</td>\n",
       "      <td>4</td>\n",
       "      <td>1</td>\n",
       "      <td>1</td>\n",
       "      <td>3</td>\n",
       "      <td>6</td>\n",
       "      <td>5</td>\n",
       "      <td>6</td>\n",
       "      <td>6</td>\n",
       "    </tr>\n",
       "    <tr>\n",
       "      <th>1</th>\n",
       "      <td>GP</td>\n",
       "      <td>F</td>\n",
       "      <td>17</td>\n",
       "      <td>U</td>\n",
       "      <td>GT3</td>\n",
       "      <td>T</td>\n",
       "      <td>1</td>\n",
       "      <td>1</td>\n",
       "      <td>at_home</td>\n",
       "      <td>other</td>\n",
       "      <td>...</td>\n",
       "      <td>5</td>\n",
       "      <td>3</td>\n",
       "      <td>3</td>\n",
       "      <td>1</td>\n",
       "      <td>1</td>\n",
       "      <td>3</td>\n",
       "      <td>4</td>\n",
       "      <td>5</td>\n",
       "      <td>5</td>\n",
       "      <td>6</td>\n",
       "    </tr>\n",
       "    <tr>\n",
       "      <th>2</th>\n",
       "      <td>GP</td>\n",
       "      <td>F</td>\n",
       "      <td>15</td>\n",
       "      <td>U</td>\n",
       "      <td>LE3</td>\n",
       "      <td>T</td>\n",
       "      <td>1</td>\n",
       "      <td>1</td>\n",
       "      <td>at_home</td>\n",
       "      <td>other</td>\n",
       "      <td>...</td>\n",
       "      <td>4</td>\n",
       "      <td>3</td>\n",
       "      <td>2</td>\n",
       "      <td>2</td>\n",
       "      <td>3</td>\n",
       "      <td>3</td>\n",
       "      <td>10</td>\n",
       "      <td>7</td>\n",
       "      <td>8</td>\n",
       "      <td>10</td>\n",
       "    </tr>\n",
       "    <tr>\n",
       "      <th>3</th>\n",
       "      <td>GP</td>\n",
       "      <td>F</td>\n",
       "      <td>15</td>\n",
       "      <td>U</td>\n",
       "      <td>GT3</td>\n",
       "      <td>T</td>\n",
       "      <td>4</td>\n",
       "      <td>2</td>\n",
       "      <td>health</td>\n",
       "      <td>services</td>\n",
       "      <td>...</td>\n",
       "      <td>3</td>\n",
       "      <td>2</td>\n",
       "      <td>2</td>\n",
       "      <td>1</td>\n",
       "      <td>1</td>\n",
       "      <td>5</td>\n",
       "      <td>2</td>\n",
       "      <td>15</td>\n",
       "      <td>14</td>\n",
       "      <td>15</td>\n",
       "    </tr>\n",
       "    <tr>\n",
       "      <th>4</th>\n",
       "      <td>GP</td>\n",
       "      <td>F</td>\n",
       "      <td>16</td>\n",
       "      <td>U</td>\n",
       "      <td>GT3</td>\n",
       "      <td>T</td>\n",
       "      <td>3</td>\n",
       "      <td>3</td>\n",
       "      <td>other</td>\n",
       "      <td>other</td>\n",
       "      <td>...</td>\n",
       "      <td>4</td>\n",
       "      <td>3</td>\n",
       "      <td>2</td>\n",
       "      <td>1</td>\n",
       "      <td>2</td>\n",
       "      <td>5</td>\n",
       "      <td>4</td>\n",
       "      <td>6</td>\n",
       "      <td>10</td>\n",
       "      <td>10</td>\n",
       "    </tr>\n",
       "  </tbody>\n",
       "</table>\n",
       "<p>5 rows × 33 columns</p>\n",
       "</div>"
      ],
      "text/plain": [
       "  school sex  age address famsize Pstatus  Medu  Fedu     Mjob      Fjob  ...  \\\n",
       "0     GP   F   18       U     GT3       A     4     4  at_home   teacher  ...   \n",
       "1     GP   F   17       U     GT3       T     1     1  at_home     other  ...   \n",
       "2     GP   F   15       U     LE3       T     1     1  at_home     other  ...   \n",
       "3     GP   F   15       U     GT3       T     4     2   health  services  ...   \n",
       "4     GP   F   16       U     GT3       T     3     3    other     other  ...   \n",
       "\n",
       "  famrel freetime  goout  Dalc  Walc health absences  G1  G2  G3  \n",
       "0      4        3      4     1     1      3        6   5   6   6  \n",
       "1      5        3      3     1     1      3        4   5   5   6  \n",
       "2      4        3      2     2     3      3       10   7   8  10  \n",
       "3      3        2      2     1     1      5        2  15  14  15  \n",
       "4      4        3      2     1     2      5        4   6  10  10  \n",
       "\n",
       "[5 rows x 33 columns]"
      ]
     },
     "execution_count": 2,
     "metadata": {},
     "output_type": "execute_result"
    }
   ],
   "source": [
    "dataset = pd.read_csv(\"/kaggle/input/student-grade-prediction/student-mat.csv\")\n",
    "dataset.head()"
   ]
  },
  {
   "cell_type": "markdown",
   "id": "75325db4",
   "metadata": {
    "papermill": {
     "duration": 0.005198,
     "end_time": "2025-06-16T16:46:42.973519",
     "exception": false,
     "start_time": "2025-06-16T16:46:42.968321",
     "status": "completed"
    },
    "tags": []
   },
   "source": [
    "Removendo variáveis que não se aplicam ao escopo do problema.\n",
    "\n",
    "- School: Não faz sentido diferenciar entre escolas, já que a ideia é prever alunos anônimos.\n",
    "- G1 e G2: Como mencionado no próprio texto, estão bem correlacionadas a nota final. Não é o objetivo tentar prever ela a partir destas, e sim a partir das características dos estudantes."
   ]
  },
  {
   "cell_type": "code",
   "execution_count": 3,
   "id": "c5a1eb32",
   "metadata": {
    "execution": {
     "iopub.execute_input": "2025-06-16T16:46:42.986384Z",
     "iopub.status.busy": "2025-06-16T16:46:42.986013Z",
     "iopub.status.idle": "2025-06-16T16:46:42.995535Z",
     "shell.execute_reply": "2025-06-16T16:46:42.994631Z"
    },
    "papermill": {
     "duration": 0.018557,
     "end_time": "2025-06-16T16:46:42.997412",
     "exception": false,
     "start_time": "2025-06-16T16:46:42.978855",
     "status": "completed"
    },
    "tags": []
   },
   "outputs": [
    {
     "data": {
      "text/plain": [
       "(395, 30)"
      ]
     },
     "execution_count": 3,
     "metadata": {},
     "output_type": "execute_result"
    }
   ],
   "source": [
    "del dataset[\"school\"]\n",
    "del dataset[\"G1\"]\n",
    "del dataset[\"G2\"]\n",
    "\n",
    "dataset.shape"
   ]
  },
  {
   "cell_type": "code",
   "execution_count": 4,
   "id": "14e22fa8",
   "metadata": {
    "execution": {
     "iopub.execute_input": "2025-06-16T16:46:43.009698Z",
     "iopub.status.busy": "2025-06-16T16:46:43.009423Z",
     "iopub.status.idle": "2025-06-16T16:46:43.032166Z",
     "shell.execute_reply": "2025-06-16T16:46:43.030919Z"
    },
    "papermill": {
     "duration": 0.030993,
     "end_time": "2025-06-16T16:46:43.033949",
     "exception": false,
     "start_time": "2025-06-16T16:46:43.002956",
     "status": "completed"
    },
    "tags": []
   },
   "outputs": [
    {
     "name": "stdout",
     "output_type": "stream",
     "text": [
      "<class 'pandas.core.frame.DataFrame'>\n",
      "RangeIndex: 395 entries, 0 to 394\n",
      "Data columns (total 30 columns):\n",
      " #   Column      Non-Null Count  Dtype \n",
      "---  ------      --------------  ----- \n",
      " 0   sex         395 non-null    object\n",
      " 1   age         395 non-null    int64 \n",
      " 2   address     395 non-null    object\n",
      " 3   famsize     395 non-null    object\n",
      " 4   Pstatus     395 non-null    object\n",
      " 5   Medu        395 non-null    int64 \n",
      " 6   Fedu        395 non-null    int64 \n",
      " 7   Mjob        395 non-null    object\n",
      " 8   Fjob        395 non-null    object\n",
      " 9   reason      395 non-null    object\n",
      " 10  guardian    395 non-null    object\n",
      " 11  traveltime  395 non-null    int64 \n",
      " 12  studytime   395 non-null    int64 \n",
      " 13  failures    395 non-null    int64 \n",
      " 14  schoolsup   395 non-null    object\n",
      " 15  famsup      395 non-null    object\n",
      " 16  paid        395 non-null    object\n",
      " 17  activities  395 non-null    object\n",
      " 18  nursery     395 non-null    object\n",
      " 19  higher      395 non-null    object\n",
      " 20  internet    395 non-null    object\n",
      " 21  romantic    395 non-null    object\n",
      " 22  famrel      395 non-null    int64 \n",
      " 23  freetime    395 non-null    int64 \n",
      " 24  goout       395 non-null    int64 \n",
      " 25  Dalc        395 non-null    int64 \n",
      " 26  Walc        395 non-null    int64 \n",
      " 27  health      395 non-null    int64 \n",
      " 28  absences    395 non-null    int64 \n",
      " 29  G3          395 non-null    int64 \n",
      "dtypes: int64(14), object(16)\n",
      "memory usage: 92.7+ KB\n"
     ]
    }
   ],
   "source": [
    "dataset.info()"
   ]
  },
  {
   "cell_type": "markdown",
   "id": "573777fa",
   "metadata": {
    "papermill": {
     "duration": 0.005353,
     "end_time": "2025-06-16T16:46:43.045330",
     "exception": false,
     "start_time": "2025-06-16T16:46:43.039977",
     "status": "completed"
    },
    "tags": []
   },
   "source": [
    "## Pré-Processamento"
   ]
  },
  {
   "cell_type": "code",
   "execution_count": 5,
   "id": "30770e81",
   "metadata": {
    "execution": {
     "iopub.execute_input": "2025-06-16T16:46:43.058117Z",
     "iopub.status.busy": "2025-06-16T16:46:43.057780Z",
     "iopub.status.idle": "2025-06-16T16:46:44.729724Z",
     "shell.execute_reply": "2025-06-16T16:46:44.728723Z"
    },
    "papermill": {
     "duration": 1.680659,
     "end_time": "2025-06-16T16:46:44.731699",
     "exception": false,
     "start_time": "2025-06-16T16:46:43.051040",
     "status": "completed"
    },
    "tags": []
   },
   "outputs": [],
   "source": [
    "import pandas as pd\n",
    "from sklearn.model_selection import train_test_split\n",
    "from sklearn.preprocessing import OneHotEncoder, StandardScaler\n",
    "from sklearn.compose import ColumnTransformer\n",
    "from sklearn.pipeline import Pipeline\n",
    "\n",
    "target = 'G3'\n",
    "\n",
    "binary_features = ['sex', 'address', 'famsize', 'Pstatus',\n",
    "                   'schoolsup', 'famsup', 'paid', 'activities', 'nursery',\n",
    "                   'higher', 'internet', 'romantic']\n",
    "\n",
    "nominal_features = ['Mjob', 'Fjob', 'reason', 'guardian']\n",
    "\n",
    "numerical_features = ['age', 'Medu', 'Fedu', 'traveltime', 'studytime',\n",
    "                      'failures', 'famrel', 'freetime', 'goout',\n",
    "                      'Dalc', 'Walc', 'health', 'absences']"
   ]
  },
  {
   "cell_type": "code",
   "execution_count": 6,
   "id": "e07d5e99",
   "metadata": {
    "execution": {
     "iopub.execute_input": "2025-06-16T16:46:44.746372Z",
     "iopub.status.busy": "2025-06-16T16:46:44.745015Z",
     "iopub.status.idle": "2025-06-16T16:46:44.750487Z",
     "shell.execute_reply": "2025-06-16T16:46:44.749514Z"
    },
    "papermill": {
     "duration": 0.01461,
     "end_time": "2025-06-16T16:46:44.752281",
     "exception": false,
     "start_time": "2025-06-16T16:46:44.737671",
     "status": "completed"
    },
    "tags": []
   },
   "outputs": [],
   "source": [
    "pd.set_option('future.no_silent_downcasting', True)"
   ]
  },
  {
   "cell_type": "code",
   "execution_count": 7,
   "id": "80798f3b",
   "metadata": {
    "execution": {
     "iopub.execute_input": "2025-06-16T16:46:44.767077Z",
     "iopub.status.busy": "2025-06-16T16:46:44.766062Z",
     "iopub.status.idle": "2025-06-16T16:46:44.778109Z",
     "shell.execute_reply": "2025-06-16T16:46:44.777125Z"
    },
    "papermill": {
     "duration": 0.020847,
     "end_time": "2025-06-16T16:46:44.779807",
     "exception": false,
     "start_time": "2025-06-16T16:46:44.758960",
     "status": "completed"
    },
    "tags": []
   },
   "outputs": [],
   "source": [
    "X = dataset.drop(columns=[target])\n",
    "y = dataset[target]\n",
    "\n",
    "# Regressão, então sem necessidade de stratify.\n",
    "X_train, X_test, y_train, y_test = train_test_split(X, y, test_size=0.2, random_state=42)"
   ]
  },
  {
   "cell_type": "code",
   "execution_count": 8,
   "id": "15e959f6",
   "metadata": {
    "execution": {
     "iopub.execute_input": "2025-06-16T16:46:44.792205Z",
     "iopub.status.busy": "2025-06-16T16:46:44.791857Z",
     "iopub.status.idle": "2025-06-16T16:46:44.811668Z",
     "shell.execute_reply": "2025-06-16T16:46:44.810601Z"
    },
    "papermill": {
     "duration": 0.028059,
     "end_time": "2025-06-16T16:46:44.813413",
     "exception": false,
     "start_time": "2025-06-16T16:46:44.785354",
     "status": "completed"
    },
    "tags": []
   },
   "outputs": [
    {
     "data": {
      "text/html": [
       "<div>\n",
       "<style scoped>\n",
       "    .dataframe tbody tr th:only-of-type {\n",
       "        vertical-align: middle;\n",
       "    }\n",
       "\n",
       "    .dataframe tbody tr th {\n",
       "        vertical-align: top;\n",
       "    }\n",
       "\n",
       "    .dataframe thead th {\n",
       "        text-align: right;\n",
       "    }\n",
       "</style>\n",
       "<table border=\"1\" class=\"dataframe\">\n",
       "  <thead>\n",
       "    <tr style=\"text-align: right;\">\n",
       "      <th></th>\n",
       "      <th>sex</th>\n",
       "      <th>age</th>\n",
       "      <th>address</th>\n",
       "      <th>famsize</th>\n",
       "      <th>Pstatus</th>\n",
       "      <th>Medu</th>\n",
       "      <th>Fedu</th>\n",
       "      <th>Mjob</th>\n",
       "      <th>Fjob</th>\n",
       "      <th>reason</th>\n",
       "      <th>...</th>\n",
       "      <th>higher</th>\n",
       "      <th>internet</th>\n",
       "      <th>romantic</th>\n",
       "      <th>famrel</th>\n",
       "      <th>freetime</th>\n",
       "      <th>goout</th>\n",
       "      <th>Dalc</th>\n",
       "      <th>Walc</th>\n",
       "      <th>health</th>\n",
       "      <th>absences</th>\n",
       "    </tr>\n",
       "  </thead>\n",
       "  <tbody>\n",
       "    <tr>\n",
       "      <th>181</th>\n",
       "      <td>M</td>\n",
       "      <td>16</td>\n",
       "      <td>U</td>\n",
       "      <td>GT3</td>\n",
       "      <td>T</td>\n",
       "      <td>3</td>\n",
       "      <td>3</td>\n",
       "      <td>services</td>\n",
       "      <td>other</td>\n",
       "      <td>home</td>\n",
       "      <td>...</td>\n",
       "      <td>yes</td>\n",
       "      <td>yes</td>\n",
       "      <td>yes</td>\n",
       "      <td>4</td>\n",
       "      <td>2</td>\n",
       "      <td>3</td>\n",
       "      <td>1</td>\n",
       "      <td>2</td>\n",
       "      <td>3</td>\n",
       "      <td>2</td>\n",
       "    </tr>\n",
       "    <tr>\n",
       "      <th>194</th>\n",
       "      <td>M</td>\n",
       "      <td>16</td>\n",
       "      <td>U</td>\n",
       "      <td>GT3</td>\n",
       "      <td>T</td>\n",
       "      <td>2</td>\n",
       "      <td>3</td>\n",
       "      <td>other</td>\n",
       "      <td>other</td>\n",
       "      <td>home</td>\n",
       "      <td>...</td>\n",
       "      <td>yes</td>\n",
       "      <td>yes</td>\n",
       "      <td>no</td>\n",
       "      <td>5</td>\n",
       "      <td>3</td>\n",
       "      <td>3</td>\n",
       "      <td>1</td>\n",
       "      <td>1</td>\n",
       "      <td>3</td>\n",
       "      <td>0</td>\n",
       "    </tr>\n",
       "    <tr>\n",
       "      <th>173</th>\n",
       "      <td>F</td>\n",
       "      <td>16</td>\n",
       "      <td>U</td>\n",
       "      <td>GT3</td>\n",
       "      <td>T</td>\n",
       "      <td>1</td>\n",
       "      <td>3</td>\n",
       "      <td>at_home</td>\n",
       "      <td>services</td>\n",
       "      <td>home</td>\n",
       "      <td>...</td>\n",
       "      <td>yes</td>\n",
       "      <td>yes</td>\n",
       "      <td>yes</td>\n",
       "      <td>4</td>\n",
       "      <td>3</td>\n",
       "      <td>5</td>\n",
       "      <td>1</td>\n",
       "      <td>1</td>\n",
       "      <td>3</td>\n",
       "      <td>0</td>\n",
       "    </tr>\n",
       "    <tr>\n",
       "      <th>63</th>\n",
       "      <td>F</td>\n",
       "      <td>16</td>\n",
       "      <td>U</td>\n",
       "      <td>GT3</td>\n",
       "      <td>T</td>\n",
       "      <td>4</td>\n",
       "      <td>3</td>\n",
       "      <td>teacher</td>\n",
       "      <td>health</td>\n",
       "      <td>home</td>\n",
       "      <td>...</td>\n",
       "      <td>yes</td>\n",
       "      <td>yes</td>\n",
       "      <td>no</td>\n",
       "      <td>3</td>\n",
       "      <td>4</td>\n",
       "      <td>4</td>\n",
       "      <td>2</td>\n",
       "      <td>4</td>\n",
       "      <td>4</td>\n",
       "      <td>2</td>\n",
       "    </tr>\n",
       "    <tr>\n",
       "      <th>253</th>\n",
       "      <td>M</td>\n",
       "      <td>16</td>\n",
       "      <td>R</td>\n",
       "      <td>GT3</td>\n",
       "      <td>T</td>\n",
       "      <td>2</td>\n",
       "      <td>1</td>\n",
       "      <td>other</td>\n",
       "      <td>other</td>\n",
       "      <td>course</td>\n",
       "      <td>...</td>\n",
       "      <td>yes</td>\n",
       "      <td>no</td>\n",
       "      <td>no</td>\n",
       "      <td>3</td>\n",
       "      <td>3</td>\n",
       "      <td>2</td>\n",
       "      <td>1</td>\n",
       "      <td>3</td>\n",
       "      <td>3</td>\n",
       "      <td>0</td>\n",
       "    </tr>\n",
       "  </tbody>\n",
       "</table>\n",
       "<p>5 rows × 29 columns</p>\n",
       "</div>"
      ],
      "text/plain": [
       "    sex  age address famsize Pstatus  Medu  Fedu      Mjob      Fjob  reason  \\\n",
       "181   M   16       U     GT3       T     3     3  services     other    home   \n",
       "194   M   16       U     GT3       T     2     3     other     other    home   \n",
       "173   F   16       U     GT3       T     1     3   at_home  services    home   \n",
       "63    F   16       U     GT3       T     4     3   teacher    health    home   \n",
       "253   M   16       R     GT3       T     2     1     other     other  course   \n",
       "\n",
       "     ... higher  internet  romantic  famrel freetime goout Dalc Walc health  \\\n",
       "181  ...    yes       yes       yes       4        2     3    1    2      3   \n",
       "194  ...    yes       yes        no       5        3     3    1    1      3   \n",
       "173  ...    yes       yes       yes       4        3     5    1    1      3   \n",
       "63   ...    yes       yes        no       3        4     4    2    4      4   \n",
       "253  ...    yes        no        no       3        3     2    1    3      3   \n",
       "\n",
       "    absences  \n",
       "181        2  \n",
       "194        0  \n",
       "173        0  \n",
       "63         2  \n",
       "253        0  \n",
       "\n",
       "[5 rows x 29 columns]"
      ]
     },
     "execution_count": 8,
     "metadata": {},
     "output_type": "execute_result"
    }
   ],
   "source": [
    "X_train.head()"
   ]
  },
  {
   "cell_type": "code",
   "execution_count": 9,
   "id": "333c05b0",
   "metadata": {
    "execution": {
     "iopub.execute_input": "2025-06-16T16:46:44.827155Z",
     "iopub.status.busy": "2025-06-16T16:46:44.826776Z",
     "iopub.status.idle": "2025-06-16T16:46:44.853111Z",
     "shell.execute_reply": "2025-06-16T16:46:44.851883Z"
    },
    "papermill": {
     "duration": 0.035123,
     "end_time": "2025-06-16T16:46:44.854852",
     "exception": false,
     "start_time": "2025-06-16T16:46:44.819729",
     "status": "completed"
    },
    "tags": []
   },
   "outputs": [
    {
     "name": "stdout",
     "output_type": "stream",
     "text": [
      "<class 'pandas.core.frame.DataFrame'>\n",
      "Index: 316 entries, 181 to 102\n",
      "Data columns (total 29 columns):\n",
      " #   Column      Non-Null Count  Dtype \n",
      "---  ------      --------------  ----- \n",
      " 0   sex         316 non-null    object\n",
      " 1   age         316 non-null    int64 \n",
      " 2   address     316 non-null    object\n",
      " 3   famsize     316 non-null    object\n",
      " 4   Pstatus     316 non-null    object\n",
      " 5   Medu        316 non-null    int64 \n",
      " 6   Fedu        316 non-null    int64 \n",
      " 7   Mjob        316 non-null    object\n",
      " 8   Fjob        316 non-null    object\n",
      " 9   reason      316 non-null    object\n",
      " 10  guardian    316 non-null    object\n",
      " 11  traveltime  316 non-null    int64 \n",
      " 12  studytime   316 non-null    int64 \n",
      " 13  failures    316 non-null    int64 \n",
      " 14  schoolsup   316 non-null    object\n",
      " 15  famsup      316 non-null    object\n",
      " 16  paid        316 non-null    object\n",
      " 17  activities  316 non-null    object\n",
      " 18  nursery     316 non-null    object\n",
      " 19  higher      316 non-null    object\n",
      " 20  internet    316 non-null    object\n",
      " 21  romantic    316 non-null    object\n",
      " 22  famrel      316 non-null    int64 \n",
      " 23  freetime    316 non-null    int64 \n",
      " 24  goout       316 non-null    int64 \n",
      " 25  Dalc        316 non-null    int64 \n",
      " 26  Walc        316 non-null    int64 \n",
      " 27  health      316 non-null    int64 \n",
      " 28  absences    316 non-null    int64 \n",
      "dtypes: int64(13), object(16)\n",
      "memory usage: 74.1+ KB\n"
     ]
    }
   ],
   "source": [
    "binary_map = {'yes': 1, 'no': 0, 'F': 0, 'M': 1, 'U': 1, 'R': 0, 'LE3': 0, 'GT3': 1, 'T': 1, 'A': 0}\n",
    "X_train[binary_features] = X_train[binary_features].replace(binary_map)\n",
    "X_test[binary_features] = X_test[binary_features].replace(binary_map)\n",
    "\n",
    "X_train.info()"
   ]
  },
  {
   "cell_type": "code",
   "execution_count": 10,
   "id": "3f340350",
   "metadata": {
    "execution": {
     "iopub.execute_input": "2025-06-16T16:46:44.868062Z",
     "iopub.status.busy": "2025-06-16T16:46:44.867712Z",
     "iopub.status.idle": "2025-06-16T16:46:44.873489Z",
     "shell.execute_reply": "2025-06-16T16:46:44.872281Z"
    },
    "papermill": {
     "duration": 0.014563,
     "end_time": "2025-06-16T16:46:44.875289",
     "exception": false,
     "start_time": "2025-06-16T16:46:44.860726",
     "status": "completed"
    },
    "tags": []
   },
   "outputs": [],
   "source": [
    "nominal_transformer = OneHotEncoder(drop='first', handle_unknown='ignore')\n",
    "\n",
    "numeric_transformer = StandardScaler()\n",
    "\n",
    "preprocessor = ColumnTransformer(\n",
    "    transformers=[\n",
    "        ('num', numeric_transformer, numerical_features),\n",
    "        ('nom', nominal_transformer, nominal_features)\n",
    "    ],\n",
    "    remainder='passthrough' \n",
    ")"
   ]
  },
  {
   "cell_type": "code",
   "execution_count": 11,
   "id": "99e24630",
   "metadata": {
    "execution": {
     "iopub.execute_input": "2025-06-16T16:46:44.889483Z",
     "iopub.status.busy": "2025-06-16T16:46:44.889071Z",
     "iopub.status.idle": "2025-06-16T16:46:44.921442Z",
     "shell.execute_reply": "2025-06-16T16:46:44.920319Z"
    },
    "papermill": {
     "duration": 0.041754,
     "end_time": "2025-06-16T16:46:44.923357",
     "exception": false,
     "start_time": "2025-06-16T16:46:44.881603",
     "status": "completed"
    },
    "tags": []
   },
   "outputs": [],
   "source": [
    "X_train_processed = preprocessor.fit_transform(X_train)\n",
    "X_test_processed = preprocessor.transform(X_test)\n",
    "\n",
    "nominal_encoded_cols = preprocessor.named_transformers_['nom'].get_feature_names_out(nominal_features)\n",
    "all_columns = numerical_features + list(nominal_encoded_cols) + binary_features\n",
    "X_train_df = pd.DataFrame(X_train_processed, columns=all_columns, index=X_train.index)\n",
    "X_test_df = pd.DataFrame(X_test_processed, columns=all_columns, index=X_test.index)"
   ]
  },
  {
   "cell_type": "code",
   "execution_count": 12,
   "id": "3133e1b7",
   "metadata": {
    "execution": {
     "iopub.execute_input": "2025-06-16T16:46:44.936724Z",
     "iopub.status.busy": "2025-06-16T16:46:44.936347Z",
     "iopub.status.idle": "2025-06-16T16:46:44.958516Z",
     "shell.execute_reply": "2025-06-16T16:46:44.957476Z"
    },
    "papermill": {
     "duration": 0.030823,
     "end_time": "2025-06-16T16:46:44.960270",
     "exception": false,
     "start_time": "2025-06-16T16:46:44.929447",
     "status": "completed"
    },
    "tags": []
   },
   "outputs": [
    {
     "data": {
      "text/html": [
       "<div>\n",
       "<style scoped>\n",
       "    .dataframe tbody tr th:only-of-type {\n",
       "        vertical-align: middle;\n",
       "    }\n",
       "\n",
       "    .dataframe tbody tr th {\n",
       "        vertical-align: top;\n",
       "    }\n",
       "\n",
       "    .dataframe thead th {\n",
       "        text-align: right;\n",
       "    }\n",
       "</style>\n",
       "<table border=\"1\" class=\"dataframe\">\n",
       "  <thead>\n",
       "    <tr style=\"text-align: right;\">\n",
       "      <th></th>\n",
       "      <th>age</th>\n",
       "      <th>Medu</th>\n",
       "      <th>Fedu</th>\n",
       "      <th>traveltime</th>\n",
       "      <th>studytime</th>\n",
       "      <th>failures</th>\n",
       "      <th>famrel</th>\n",
       "      <th>freetime</th>\n",
       "      <th>goout</th>\n",
       "      <th>Dalc</th>\n",
       "      <th>...</th>\n",
       "      <th>famsize</th>\n",
       "      <th>Pstatus</th>\n",
       "      <th>schoolsup</th>\n",
       "      <th>famsup</th>\n",
       "      <th>paid</th>\n",
       "      <th>activities</th>\n",
       "      <th>nursery</th>\n",
       "      <th>higher</th>\n",
       "      <th>internet</th>\n",
       "      <th>romantic</th>\n",
       "    </tr>\n",
       "  </thead>\n",
       "  <tbody>\n",
       "    <tr>\n",
       "      <th>181</th>\n",
       "      <td>-0.586396</td>\n",
       "      <td>0.246437</td>\n",
       "      <td>0.423207</td>\n",
       "      <td>-0.625779</td>\n",
       "      <td>-0.056853</td>\n",
       "      <td>-0.456744</td>\n",
       "      <td>0.064432</td>\n",
       "      <td>-1.195981</td>\n",
       "      <td>-0.144396</td>\n",
       "      <td>-0.55443</td>\n",
       "      <td>...</td>\n",
       "      <td>1</td>\n",
       "      <td>1</td>\n",
       "      <td>0</td>\n",
       "      <td>0</td>\n",
       "      <td>1</td>\n",
       "      <td>1</td>\n",
       "      <td>1</td>\n",
       "      <td>1</td>\n",
       "      <td>1</td>\n",
       "      <td>1</td>\n",
       "    </tr>\n",
       "    <tr>\n",
       "      <th>194</th>\n",
       "      <td>-0.586396</td>\n",
       "      <td>-0.680636</td>\n",
       "      <td>0.423207</td>\n",
       "      <td>0.828236</td>\n",
       "      <td>-1.254553</td>\n",
       "      <td>-0.456744</td>\n",
       "      <td>1.195575</td>\n",
       "      <td>-0.214345</td>\n",
       "      <td>-0.144396</td>\n",
       "      <td>-0.55443</td>\n",
       "      <td>...</td>\n",
       "      <td>1</td>\n",
       "      <td>1</td>\n",
       "      <td>0</td>\n",
       "      <td>0</td>\n",
       "      <td>0</td>\n",
       "      <td>0</td>\n",
       "      <td>1</td>\n",
       "      <td>1</td>\n",
       "      <td>1</td>\n",
       "      <td>0</td>\n",
       "    </tr>\n",
       "    <tr>\n",
       "      <th>173</th>\n",
       "      <td>-0.586396</td>\n",
       "      <td>-1.607709</td>\n",
       "      <td>0.423207</td>\n",
       "      <td>-0.625779</td>\n",
       "      <td>-0.056853</td>\n",
       "      <td>3.628097</td>\n",
       "      <td>0.064432</td>\n",
       "      <td>-0.214345</td>\n",
       "      <td>1.644982</td>\n",
       "      <td>-0.55443</td>\n",
       "      <td>...</td>\n",
       "      <td>1</td>\n",
       "      <td>1</td>\n",
       "      <td>0</td>\n",
       "      <td>0</td>\n",
       "      <td>0</td>\n",
       "      <td>1</td>\n",
       "      <td>0</td>\n",
       "      <td>1</td>\n",
       "      <td>1</td>\n",
       "      <td>1</td>\n",
       "    </tr>\n",
       "    <tr>\n",
       "      <th>63</th>\n",
       "      <td>-0.586396</td>\n",
       "      <td>1.17351</td>\n",
       "      <td>0.423207</td>\n",
       "      <td>-0.625779</td>\n",
       "      <td>1.140847</td>\n",
       "      <td>-0.456744</td>\n",
       "      <td>-1.06671</td>\n",
       "      <td>0.767292</td>\n",
       "      <td>0.750293</td>\n",
       "      <td>0.55443</td>\n",
       "      <td>...</td>\n",
       "      <td>1</td>\n",
       "      <td>1</td>\n",
       "      <td>1</td>\n",
       "      <td>1</td>\n",
       "      <td>1</td>\n",
       "      <td>1</td>\n",
       "      <td>1</td>\n",
       "      <td>1</td>\n",
       "      <td>1</td>\n",
       "      <td>0</td>\n",
       "    </tr>\n",
       "    <tr>\n",
       "      <th>253</th>\n",
       "      <td>-0.586396</td>\n",
       "      <td>-0.680636</td>\n",
       "      <td>-1.434203</td>\n",
       "      <td>0.828236</td>\n",
       "      <td>-1.254553</td>\n",
       "      <td>-0.456744</td>\n",
       "      <td>-1.06671</td>\n",
       "      <td>-0.214345</td>\n",
       "      <td>-1.039085</td>\n",
       "      <td>-0.55443</td>\n",
       "      <td>...</td>\n",
       "      <td>1</td>\n",
       "      <td>1</td>\n",
       "      <td>0</td>\n",
       "      <td>0</td>\n",
       "      <td>0</td>\n",
       "      <td>1</td>\n",
       "      <td>0</td>\n",
       "      <td>1</td>\n",
       "      <td>0</td>\n",
       "      <td>0</td>\n",
       "    </tr>\n",
       "    <tr>\n",
       "      <th>...</th>\n",
       "      <td>...</td>\n",
       "      <td>...</td>\n",
       "      <td>...</td>\n",
       "      <td>...</td>\n",
       "      <td>...</td>\n",
       "      <td>...</td>\n",
       "      <td>...</td>\n",
       "      <td>...</td>\n",
       "      <td>...</td>\n",
       "      <td>...</td>\n",
       "      <td>...</td>\n",
       "      <td>...</td>\n",
       "      <td>...</td>\n",
       "      <td>...</td>\n",
       "      <td>...</td>\n",
       "      <td>...</td>\n",
       "      <td>...</td>\n",
       "      <td>...</td>\n",
       "      <td>...</td>\n",
       "      <td>...</td>\n",
       "      <td>...</td>\n",
       "    </tr>\n",
       "    <tr>\n",
       "      <th>71</th>\n",
       "      <td>-1.374912</td>\n",
       "      <td>1.17351</td>\n",
       "      <td>-0.505498</td>\n",
       "      <td>-0.625779</td>\n",
       "      <td>2.338548</td>\n",
       "      <td>-0.456744</td>\n",
       "      <td>-1.06671</td>\n",
       "      <td>-0.214345</td>\n",
       "      <td>-0.144396</td>\n",
       "      <td>-0.55443</td>\n",
       "      <td>...</td>\n",
       "      <td>1</td>\n",
       "      <td>1</td>\n",
       "      <td>0</td>\n",
       "      <td>0</td>\n",
       "      <td>0</td>\n",
       "      <td>0</td>\n",
       "      <td>1</td>\n",
       "      <td>1</td>\n",
       "      <td>1</td>\n",
       "      <td>0</td>\n",
       "    </tr>\n",
       "    <tr>\n",
       "      <th>106</th>\n",
       "      <td>-1.374912</td>\n",
       "      <td>-0.680636</td>\n",
       "      <td>-0.505498</td>\n",
       "      <td>-0.625779</td>\n",
       "      <td>2.338548</td>\n",
       "      <td>-0.456744</td>\n",
       "      <td>1.195575</td>\n",
       "      <td>-2.177617</td>\n",
       "      <td>-1.039085</td>\n",
       "      <td>-0.55443</td>\n",
       "      <td>...</td>\n",
       "      <td>1</td>\n",
       "      <td>1</td>\n",
       "      <td>1</td>\n",
       "      <td>1</td>\n",
       "      <td>1</td>\n",
       "      <td>0</td>\n",
       "      <td>1</td>\n",
       "      <td>1</td>\n",
       "      <td>1</td>\n",
       "      <td>0</td>\n",
       "    </tr>\n",
       "    <tr>\n",
       "      <th>270</th>\n",
       "      <td>1.779151</td>\n",
       "      <td>0.246437</td>\n",
       "      <td>0.423207</td>\n",
       "      <td>-0.625779</td>\n",
       "      <td>-0.056853</td>\n",
       "      <td>2.266484</td>\n",
       "      <td>0.064432</td>\n",
       "      <td>-0.214345</td>\n",
       "      <td>1.644982</td>\n",
       "      <td>1.663291</td>\n",
       "      <td>...</td>\n",
       "      <td>1</td>\n",
       "      <td>1</td>\n",
       "      <td>0</td>\n",
       "      <td>1</td>\n",
       "      <td>1</td>\n",
       "      <td>1</td>\n",
       "      <td>1</td>\n",
       "      <td>1</td>\n",
       "      <td>1</td>\n",
       "      <td>0</td>\n",
       "    </tr>\n",
       "    <tr>\n",
       "      <th>348</th>\n",
       "      <td>0.202119</td>\n",
       "      <td>1.17351</td>\n",
       "      <td>0.423207</td>\n",
       "      <td>-0.625779</td>\n",
       "      <td>1.140847</td>\n",
       "      <td>-0.456744</td>\n",
       "      <td>0.064432</td>\n",
       "      <td>0.767292</td>\n",
       "      <td>-0.144396</td>\n",
       "      <td>-0.55443</td>\n",
       "      <td>...</td>\n",
       "      <td>1</td>\n",
       "      <td>1</td>\n",
       "      <td>0</td>\n",
       "      <td>1</td>\n",
       "      <td>1</td>\n",
       "      <td>1</td>\n",
       "      <td>1</td>\n",
       "      <td>1</td>\n",
       "      <td>1</td>\n",
       "      <td>1</td>\n",
       "    </tr>\n",
       "    <tr>\n",
       "      <th>102</th>\n",
       "      <td>-1.374912</td>\n",
       "      <td>1.17351</td>\n",
       "      <td>1.351912</td>\n",
       "      <td>-0.625779</td>\n",
       "      <td>-1.254553</td>\n",
       "      <td>-0.456744</td>\n",
       "      <td>1.195575</td>\n",
       "      <td>-0.214345</td>\n",
       "      <td>-0.144396</td>\n",
       "      <td>-0.55443</td>\n",
       "      <td>...</td>\n",
       "      <td>1</td>\n",
       "      <td>1</td>\n",
       "      <td>0</td>\n",
       "      <td>1</td>\n",
       "      <td>0</td>\n",
       "      <td>1</td>\n",
       "      <td>0</td>\n",
       "      <td>1</td>\n",
       "      <td>1</td>\n",
       "      <td>0</td>\n",
       "    </tr>\n",
       "  </tbody>\n",
       "</table>\n",
       "<p>316 rows × 38 columns</p>\n",
       "</div>"
      ],
      "text/plain": [
       "          age      Medu      Fedu traveltime studytime  failures    famrel  \\\n",
       "181 -0.586396  0.246437  0.423207  -0.625779 -0.056853 -0.456744  0.064432   \n",
       "194 -0.586396 -0.680636  0.423207   0.828236 -1.254553 -0.456744  1.195575   \n",
       "173 -0.586396 -1.607709  0.423207  -0.625779 -0.056853  3.628097  0.064432   \n",
       "63  -0.586396   1.17351  0.423207  -0.625779  1.140847 -0.456744  -1.06671   \n",
       "253 -0.586396 -0.680636 -1.434203   0.828236 -1.254553 -0.456744  -1.06671   \n",
       "..        ...       ...       ...        ...       ...       ...       ...   \n",
       "71  -1.374912   1.17351 -0.505498  -0.625779  2.338548 -0.456744  -1.06671   \n",
       "106 -1.374912 -0.680636 -0.505498  -0.625779  2.338548 -0.456744  1.195575   \n",
       "270  1.779151  0.246437  0.423207  -0.625779 -0.056853  2.266484  0.064432   \n",
       "348  0.202119   1.17351  0.423207  -0.625779  1.140847 -0.456744  0.064432   \n",
       "102 -1.374912   1.17351  1.351912  -0.625779 -1.254553 -0.456744  1.195575   \n",
       "\n",
       "     freetime     goout      Dalc  ... famsize Pstatus schoolsup famsup paid  \\\n",
       "181 -1.195981 -0.144396  -0.55443  ...       1       1         0      0    1   \n",
       "194 -0.214345 -0.144396  -0.55443  ...       1       1         0      0    0   \n",
       "173 -0.214345  1.644982  -0.55443  ...       1       1         0      0    0   \n",
       "63   0.767292  0.750293   0.55443  ...       1       1         1      1    1   \n",
       "253 -0.214345 -1.039085  -0.55443  ...       1       1         0      0    0   \n",
       "..        ...       ...       ...  ...     ...     ...       ...    ...  ...   \n",
       "71  -0.214345 -0.144396  -0.55443  ...       1       1         0      0    0   \n",
       "106 -2.177617 -1.039085  -0.55443  ...       1       1         1      1    1   \n",
       "270 -0.214345  1.644982  1.663291  ...       1       1         0      1    1   \n",
       "348  0.767292 -0.144396  -0.55443  ...       1       1         0      1    1   \n",
       "102 -0.214345 -0.144396  -0.55443  ...       1       1         0      1    0   \n",
       "\n",
       "    activities nursery higher internet romantic  \n",
       "181          1       1      1        1        1  \n",
       "194          0       1      1        1        0  \n",
       "173          1       0      1        1        1  \n",
       "63           1       1      1        1        0  \n",
       "253          1       0      1        0        0  \n",
       "..         ...     ...    ...      ...      ...  \n",
       "71           0       1      1        1        0  \n",
       "106          0       1      1        1        0  \n",
       "270          1       1      1        1        0  \n",
       "348          1       1      1        1        1  \n",
       "102          1       0      1        1        0  \n",
       "\n",
       "[316 rows x 38 columns]"
      ]
     },
     "execution_count": 12,
     "metadata": {},
     "output_type": "execute_result"
    }
   ],
   "source": [
    "X_train_df"
   ]
  },
  {
   "cell_type": "markdown",
   "id": "aca6d97e",
   "metadata": {
    "papermill": {
     "duration": 0.006225,
     "end_time": "2025-06-16T16:46:44.973357",
     "exception": false,
     "start_time": "2025-06-16T16:46:44.967132",
     "status": "completed"
    },
    "tags": []
   },
   "source": [
    "# Feature Selection\n",
    "\n",
    "Métodos a serem utilizados:\n",
    "- Correlação Estatística\n",
    "- Select K Best\n",
    "- RFE\n",
    "- Árvore de Decisão \n",
    "- Regressão Linear com Lasso"
   ]
  },
  {
   "cell_type": "markdown",
   "id": "eca76053",
   "metadata": {
    "papermill": {
     "duration": 0.006128,
     "end_time": "2025-06-16T16:46:44.986217",
     "exception": false,
     "start_time": "2025-06-16T16:46:44.980089",
     "status": "completed"
    },
    "tags": []
   },
   "source": [
    "## Correlação Estatística"
   ]
  },
  {
   "cell_type": "code",
   "execution_count": 13,
   "id": "da804dc8",
   "metadata": {
    "execution": {
     "iopub.execute_input": "2025-06-16T16:46:45.001073Z",
     "iopub.status.busy": "2025-06-16T16:46:44.999961Z",
     "iopub.status.idle": "2025-06-16T16:46:46.098961Z",
     "shell.execute_reply": "2025-06-16T16:46:46.097907Z"
    },
    "papermill": {
     "duration": 1.108403,
     "end_time": "2025-06-16T16:46:46.100921",
     "exception": false,
     "start_time": "2025-06-16T16:46:44.992518",
     "status": "completed"
    },
    "tags": []
   },
   "outputs": [
    {
     "name": "stdout",
     "output_type": "stream",
     "text": [
      "failures             0.373769\n",
      "Medu                 0.215968\n",
      "higher               0.214106\n",
      "paid                 0.160374\n",
      "age                  0.146241\n",
      "studytime            0.138200\n",
      "Fedu                 0.135265\n",
      "romantic             0.122786\n",
      "internet             0.119413\n",
      "Mjob_health          0.111647\n",
      "traveltime           0.106752\n",
      "goout                0.106024\n",
      "reason_reputation    0.095625\n",
      "Pstatus              0.085990\n",
      "address              0.081045\n",
      "famsize              0.075983\n",
      "sex                  0.069819\n",
      "famrel               0.069409\n",
      "health               0.068857\n",
      "guardian_other       0.068670\n",
      "dtype: float64\n"
     ]
    },
    {
     "data": {
      "image/png": "[encoded data removed]",
      "text/plain": [
       "<Figure size 640x480 with 1 Axes>"
      ]
     },
     "metadata": {},
     "output_type": "display_data"
    }
   ],
   "source": [
    "import seaborn as sns\n",
    "import matplotlib.pyplot as plt\n",
    "\n",
    "corrs = X_train_df.corrwith(y_train).abs().sort_values(ascending=False)\n",
    "print(corrs.head(20))\n",
    "\n",
    "sns.barplot(x=corrs.head(20).values, y=corrs.head(20).index)\n",
    "plt.title(\"Top 20 Correlated Features with G3 (Pearson)\")\n",
    "plt.show()"
   ]
  },
  {
   "cell_type": "code",
   "execution_count": 14,
   "id": "df4dd613",
   "metadata": {
    "execution": {
     "iopub.execute_input": "2025-06-16T16:46:46.117985Z",
     "iopub.status.busy": "2025-06-16T16:46:46.116944Z",
     "iopub.status.idle": "2025-06-16T16:46:46.429256Z",
     "shell.execute_reply": "2025-06-16T16:46:46.428251Z"
    },
    "papermill": {
     "duration": 0.32229,
     "end_time": "2025-06-16T16:46:46.431122",
     "exception": false,
     "start_time": "2025-06-16T16:46:46.108832",
     "status": "completed"
    },
    "tags": []
   },
   "outputs": [
    {
     "name": "stdout",
     "output_type": "stream",
     "text": [
      "failures             0.348527\n",
      "Medu                 0.213393\n",
      "higher               0.204210\n",
      "age                  0.155726\n",
      "Fedu                 0.150095\n",
      "goout                0.149681\n",
      "Dalc                 0.145264\n",
      "internet             0.134761\n",
      "Mjob_health          0.131723\n",
      "schoolsup            0.125690\n",
      "studytime            0.125524\n",
      "Walc                 0.122268\n",
      "paid                 0.116419\n",
      "reason_reputation    0.096897\n",
      "traveltime           0.096425\n",
      "address              0.089551\n",
      "famrel               0.079305\n",
      "guardian_other       0.076490\n",
      "Mjob_services        0.074988\n",
      "sex                  0.072843\n",
      "dtype: float64\n"
     ]
    },
    {
     "data": {
      "image/png": "[encoded data removed]",
      "text/plain": [
       "<Figure size 640x480 with 1 Axes>"
      ]
     },
     "metadata": {},
     "output_type": "display_data"
    }
   ],
   "source": [
    "corrs = X_train_df.corrwith(y_train, method=\"spearman\").abs().sort_values(ascending=False)\n",
    "print(corrs.head(20))\n",
    "\n",
    "sns.barplot(x=corrs.head(20).values, y=corrs.head(20).index)\n",
    "plt.title(\"Top 20 Correlated Features with G3 (Spearman)\")\n",
    "plt.show()"
   ]
  },
  {
   "cell_type": "code",
   "execution_count": 15,
   "id": "b6984de8",
   "metadata": {
    "execution": {
     "iopub.execute_input": "2025-06-16T16:46:46.447829Z",
     "iopub.status.busy": "2025-06-16T16:46:46.447554Z",
     "iopub.status.idle": "2025-06-16T16:46:46.747526Z",
     "shell.execute_reply": "2025-06-16T16:46:46.746473Z"
    },
    "papermill": {
     "duration": 0.310112,
     "end_time": "2025-06-16T16:46:46.749105",
     "exception": false,
     "start_time": "2025-06-16T16:46:46.438993",
     "status": "completed"
    },
    "tags": []
   },
   "outputs": [
    {
     "name": "stdout",
     "output_type": "stream",
     "text": [
      "failures             0.289933\n",
      "higher               0.173841\n",
      "Medu                 0.165937\n",
      "age                  0.121823\n",
      "Fedu                 0.117711\n",
      "goout                0.117050\n",
      "Dalc                 0.117026\n",
      "internet             0.114720\n",
      "Mjob_health          0.112133\n",
      "schoolsup            0.106997\n",
      "studytime            0.101801\n",
      "paid                 0.099105\n",
      "Walc                 0.096280\n",
      "reason_reputation    0.082486\n",
      "traveltime           0.079602\n",
      "address              0.076233\n",
      "guardian_other       0.065115\n",
      "famrel               0.063989\n",
      "Mjob_services        0.063836\n",
      "sex                  0.062010\n",
      "dtype: float64\n"
     ]
    },
    {
     "data": {
      "image/png": "[encoded data removed]",
      "text/plain": [
       "<Figure size 640x480 with 1 Axes>"
      ]
     },
     "metadata": {},
     "output_type": "display_data"
    }
   ],
   "source": [
    "corrs = X_train_df.corrwith(y_train, method=\"kendall\").abs().sort_values(ascending=False)\n",
    "print(corrs.head(20))\n",
    "\n",
    "sns.barplot(x=corrs.head(20).values, y=corrs.head(20).index)\n",
    "plt.title(\"Top 20 Correlated Features with G3 (Kendall)\")\n",
    "plt.show()"
   ]
  },
  {
   "cell_type": "markdown",
   "id": "d8c8cdf1",
   "metadata": {
    "papermill": {
     "duration": 0.007771,
     "end_time": "2025-06-16T16:46:46.764978",
     "exception": false,
     "start_time": "2025-06-16T16:46:46.757207",
     "status": "completed"
    },
    "tags": []
   },
   "source": [
    "**Resultados**\n",
    "\n",
    "1. Feature: failures | Average Ranking: 1.0\n",
    "\n",
    "2. Feature: Medu | Average Ranking: 2.0\n",
    "\n",
    "3. Feature: higher | Average Ranking: 3.0\n",
    "\n",
    "4. Feature: age | Average Ranking: 4.3\n",
    "\n",
    "5. Feature: Fedu | Average Ranking: 5.3\n",
    "\n",
    "6. Feature: goout | Average Ranking: 8.0\n",
    "\n",
    "7. Feature: internet | Average Ranking: 8.3\n",
    "\n",
    "8. Feature: Mjob_health | Average Ranking: 9.3\n",
    "\n",
    "9. Feature: studytime | Average Ranking: 9.3\n",
    "\n",
    "10. Feature: paid | Average Ranking: 10.0\n",
    "\n",
    "11. Feature: reason_reputation | Average Ranking: 13.7\n",
    "\n",
    "12. Feature: traveltime | Average Ranking: 13.7\n",
    "\n",
    "13. Feature: address | Average Ranking: 15.3\n",
    "\n",
    "14. Feature: famrel | Average Ranking: 17.3\n",
    "\n",
    "15. Feature: sex | Average Ranking: 18.7"
   ]
  },
  {
   "cell_type": "markdown",
   "id": "b718814f",
   "metadata": {
    "papermill": {
     "duration": 0.007662,
     "end_time": "2025-06-16T16:46:46.780631",
     "exception": false,
     "start_time": "2025-06-16T16:46:46.772969",
     "status": "completed"
    },
    "tags": []
   },
   "source": [
    "## SelectKBest"
   ]
  },
  {
   "cell_type": "code",
   "execution_count": 16,
   "id": "7787fdfb",
   "metadata": {
    "execution": {
     "iopub.execute_input": "2025-06-16T16:46:46.798023Z",
     "iopub.status.busy": "2025-06-16T16:46:46.797727Z",
     "iopub.status.idle": "2025-06-16T16:46:47.070504Z",
     "shell.execute_reply": "2025-06-16T16:46:47.069148Z"
    },
    "papermill": {
     "duration": 0.283534,
     "end_time": "2025-06-16T16:46:47.072121",
     "exception": false,
     "start_time": "2025-06-16T16:46:46.788587",
     "status": "completed"
    },
    "tags": []
   },
   "outputs": [
    {
     "name": "stdout",
     "output_type": "stream",
     "text": [
      "Top 15 features by SelectKBest (f_regression):\n",
      "               Feature      Score\n",
      "5            failures  50.990248\n",
      "1                Medu  15.362176\n",
      "35             higher  15.085780\n",
      "32               paid   8.289265\n",
      "0                 age   6.862115\n",
      "4           studytime   6.113964\n",
      "2                Fedu   5.852245\n",
      "37           romantic   4.806442\n",
      "36           internet   4.542263\n",
      "13        Mjob_health   3.963397\n",
      "3          traveltime   3.619618\n",
      "8               goout   3.569847\n",
      "23  reason_reputation   2.897783\n",
      "29            Pstatus   2.339082\n",
      "27            address   2.076091\n"
     ]
    }
   ],
   "source": [
    "from sklearn.feature_selection import SelectKBest, f_regression\n",
    "import pandas as pd\n",
    "\n",
    "selector = SelectKBest(score_func=f_regression, k=15)\n",
    "selector.fit(X_train_df, y_train)\n",
    "\n",
    "scores = selector.scores_\n",
    "\n",
    "feature_scores = pd.DataFrame({\n",
    "    'Feature': X_train_df.columns,\n",
    "    'Score': scores\n",
    "})\n",
    "\n",
    "top_15_features = feature_scores.sort_values(by='Score', ascending=False).head(15)\n",
    "\n",
    "print(\"Top 15 features by SelectKBest (f_regression):\\n\", top_15_features)\n"
   ]
  },
  {
   "cell_type": "markdown",
   "id": "c9f991da",
   "metadata": {
    "papermill": {
     "duration": 0.008389,
     "end_time": "2025-06-16T16:46:47.089486",
     "exception": false,
     "start_time": "2025-06-16T16:46:47.081097",
     "status": "completed"
    },
    "tags": []
   },
   "source": [
    "## RFE"
   ]
  },
  {
   "cell_type": "code",
   "execution_count": 17,
   "id": "ad3e3973",
   "metadata": {
    "execution": {
     "iopub.execute_input": "2025-06-16T16:46:47.108089Z",
     "iopub.status.busy": "2025-06-16T16:46:47.107308Z",
     "iopub.status.idle": "2025-06-16T16:46:47.195376Z",
     "shell.execute_reply": "2025-06-16T16:46:47.193471Z"
    },
    "papermill": {
     "duration": 0.099402,
     "end_time": "2025-06-16T16:46:47.197306",
     "exception": false,
     "start_time": "2025-06-16T16:46:47.097904",
     "status": "completed"
    },
    "tags": []
   },
   "outputs": [
    {
     "name": "stdout",
     "output_type": "stream",
     "text": [
      "Top 15 features by RFE:\n",
      "               Feature  Ranking\n",
      "37           romantic        1\n",
      "15      Mjob_services        1\n",
      "20       Fjob_teacher        1\n",
      "13        Mjob_health        1\n",
      "22       reason_other        1\n",
      "23  reason_reputation        1\n",
      "26                sex        1\n",
      "29            Pstatus        1\n",
      "31             famsup        1\n",
      "5            failures        1\n",
      "4           studytime        1\n",
      "32               paid        1\n",
      "33         activities        1\n",
      "35             higher        1\n",
      "36           internet        1\n"
     ]
    }
   ],
   "source": [
    "from sklearn.feature_selection import RFE\n",
    "from sklearn.linear_model import LinearRegression\n",
    "import pandas as pd\n",
    "\n",
    "rfe = RFE(estimator=LinearRegression(), n_features_to_select=15)\n",
    "rfe.fit(X_train_df, y_train)\n",
    "\n",
    "ranking = rfe.ranking_\n",
    "\n",
    "rfe_ranking_df = pd.DataFrame({\n",
    "    'Feature': X_train_df.columns,\n",
    "    'Ranking': ranking\n",
    "})\n",
    "\n",
    "rfe_ranking_df_sorted = rfe_ranking_df.sort_values(by='Ranking')\n",
    "\n",
    "top_15_rfe = rfe_ranking_df_sorted.head(15)\n",
    "\n",
    "print(\"Top 15 features by RFE:\\n\", top_15_rfe)"
   ]
  },
  {
   "cell_type": "markdown",
   "id": "345d3874",
   "metadata": {
    "papermill": {
     "duration": 0.014198,
     "end_time": "2025-06-16T16:46:47.225787",
     "exception": false,
     "start_time": "2025-06-16T16:46:47.211589",
     "status": "completed"
    },
    "tags": []
   },
   "source": [
    "## Árvore de Decisão"
   ]
  },
  {
   "cell_type": "code",
   "execution_count": 18,
   "id": "552b9ece",
   "metadata": {
    "execution": {
     "iopub.execute_input": "2025-06-16T16:46:47.254549Z",
     "iopub.status.busy": "2025-06-16T16:46:47.254197Z",
     "iopub.status.idle": "2025-06-16T16:46:47.693890Z",
     "shell.execute_reply": "2025-06-16T16:46:47.692594Z"
    },
    "papermill": {
     "duration": 0.456459,
     "end_time": "2025-06-16T16:46:47.696025",
     "exception": false,
     "start_time": "2025-06-16T16:46:47.239566",
     "status": "completed"
    },
    "tags": []
   },
   "outputs": [
    {
     "name": "stdout",
     "output_type": "stream",
     "text": [
      "Top 15 features by Random Forest:\n",
      " absences         0.192495\n",
      "failures         0.143550\n",
      "health           0.055876\n",
      "goout            0.050899\n",
      "age              0.040701\n",
      "studytime        0.034648\n",
      "freetime         0.032746\n",
      "Fedu             0.032605\n",
      "traveltime       0.031893\n",
      "Walc             0.030458\n",
      "schoolsup        0.025349\n",
      "famrel           0.025271\n",
      "Medu             0.024379\n",
      "romantic         0.020976\n",
      "Mjob_services    0.020028\n",
      "dtype: float64\n"
     ]
    }
   ],
   "source": [
    "from sklearn.ensemble import RandomForestRegressor\n",
    "\n",
    "rf = RandomForestRegressor(random_state=42)\n",
    "rf.fit(X_train_df, y_train)\n",
    "\n",
    "importances = pd.Series(rf.feature_importances_, index=X_train_df.columns)\n",
    "top_rf_features = importances.sort_values(ascending=False).head(15)\n",
    "print(\"Top 15 features by Random Forest:\\n\", top_rf_features)"
   ]
  },
  {
   "cell_type": "markdown",
   "id": "b4ad992a",
   "metadata": {
    "papermill": {
     "duration": 0.00915,
     "end_time": "2025-06-16T16:46:47.714312",
     "exception": false,
     "start_time": "2025-06-16T16:46:47.705162",
     "status": "completed"
    },
    "tags": []
   },
   "source": [
    "## Regressão com Lasso"
   ]
  },
  {
   "cell_type": "code",
   "execution_count": 19,
   "id": "5546e593",
   "metadata": {
    "execution": {
     "iopub.execute_input": "2025-06-16T16:46:47.734386Z",
     "iopub.status.busy": "2025-06-16T16:46:47.733991Z",
     "iopub.status.idle": "2025-06-16T16:46:47.808964Z",
     "shell.execute_reply": "2025-06-16T16:46:47.807779Z"
    },
    "papermill": {
     "duration": 0.087212,
     "end_time": "2025-06-16T16:46:47.810777",
     "exception": false,
     "start_time": "2025-06-16T16:46:47.723565",
     "status": "completed"
    },
    "tags": []
   },
   "outputs": [
    {
     "name": "stdout",
     "output_type": "stream",
     "text": [
      "Top 15 features by Lasso:\n",
      " failures             1.219141\n",
      "Medu                 0.262323\n",
      "studytime            0.036831\n",
      "Pstatus              0.000000\n",
      "reason_other         0.000000\n",
      "reason_reputation    0.000000\n",
      "guardian_mother      0.000000\n",
      "guardian_other       0.000000\n",
      "sex                  0.000000\n",
      "address              0.000000\n",
      "famsize              0.000000\n",
      "age                  0.000000\n",
      "reason_home          0.000000\n",
      "famsup               0.000000\n",
      "paid                 0.000000\n",
      "dtype: float64\n"
     ]
    }
   ],
   "source": [
    "from sklearn.linear_model import LassoCV\n",
    "from sklearn.preprocessing import StandardScaler\n",
    "\n",
    "lasso = LassoCV(cv=5, random_state=42)\n",
    "lasso.fit(X_train_df, y_train)\n",
    "\n",
    "lasso_coef = pd.Series(lasso.coef_, index=X_train_df.columns)\n",
    "top_lasso_features = lasso_coef.abs().sort_values(ascending=False).head(15)\n",
    "print(\"Top 15 features by Lasso:\\n\", top_lasso_features)"
   ]
  },
  {
   "cell_type": "markdown",
   "id": "2deb682c",
   "metadata": {
    "papermill": {
     "duration": 0.008083,
     "end_time": "2025-06-16T16:46:47.827388",
     "exception": false,
     "start_time": "2025-06-16T16:46:47.819305",
     "status": "completed"
    },
    "tags": []
   },
   "source": [
    "# Resultado Final\n",
    "\n"
   ]
  },
  {
   "cell_type": "markdown",
   "id": "a296486f",
   "metadata": {
    "papermill": {
     "duration": 0.008008,
     "end_time": "2025-06-16T16:46:47.843643",
     "exception": false,
     "start_time": "2025-06-16T16:46:47.835635",
     "status": "completed"
    },
    "tags": []
   },
   "source": [
    "Além das informações básicas de cada estudante, como Gênero e Idade, serão consideradas as variáveis:\n",
    "\n",
    "- Number of past failures (failures)\n",
    "- Mother's Education (Medu)\n",
    "- Average Studytime (studytime)\n",
    "- Interest in higher education (higher)\n",
    "- Father's Education (Fedu)\n",
    "- Frequency the student goes out with friends (goout)\n",
    "- Has internet acess in home? (internet)\n",
    "- Mother's and Father's Job (Mjob and Fjob)\n",
    "- If it has extra paid classes (paid)"
   ]
  }
 ],
 "metadata": {
  "kaggle": {
   "accelerator": "none",
   "dataSources": [
    {
     "datasetId": 52721,
     "sourceId": 99691,
     "sourceType": "datasetVersion"
    }
   ],
   "dockerImageVersionId": 31040,
   "isGpuEnabled": false,
   "isInternetEnabled": true,
   "language": "python",
   "sourceType": "notebook"
  },
  "kernelspec": {
   "display_name": "Python 3",
   "language": "python",
   "name": "python3"
  },
  "language_info": {
   "codemirror_mode": {
    "name": "ipython",
    "version": 3
   },
   "file_extension": ".py",
   "mimetype": "text/x-python",
   "name": "python",
   "nbconvert_exporter": "python",
   "pygments_lexer": "ipython3",
   "version": "3.11.11"
  },
  "papermill": {
   "default_parameters": {},
   "duration": 12.874466,
   "end_time": "2025-06-16T16:46:48.873718",
   "environment_variables": {},
   "exception": null,
   "input_path": "__notebook__.ipynb",
   "output_path": "__notebook__.ipynb",
   "parameters": {},
   "start_time": "2025-06-16T16:46:35.999252",
   "version": "2.6.0"
  }
 },
 "nbformat": 4,
 "nbformat_minor": 5
}
